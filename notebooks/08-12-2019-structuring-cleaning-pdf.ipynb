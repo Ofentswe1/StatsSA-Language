{
 "cells": [
  {
   "cell_type": "code",
   "execution_count": 2,
   "metadata": {
    "ExecuteTime": {
     "end_time": "2019-12-08T20:49:21.042434Z",
     "start_time": "2019-12-08T20:49:21.026436Z"
    }
   },
   "outputs": [
    {
     "ename": "ModuleNotFoundError",
     "evalue": "No module named 'stringIO'",
     "output_type": "error",
     "traceback": [
      "\u001b[1;31m---------------------------------------------------------------------------\u001b[0m",
      "\u001b[1;31mModuleNotFoundError\u001b[0m                       Traceback (most recent call last)",
      "\u001b[1;32m<ipython-input-2-259023ac4bca>\u001b[0m in \u001b[0;36m<module>\u001b[1;34m\u001b[0m\n\u001b[0;32m      3\u001b[0m \u001b[1;32mimport\u001b[0m \u001b[0mtextwrap\u001b[0m\u001b[1;33m\u001b[0m\u001b[1;33m\u001b[0m\u001b[0m\n\u001b[0;32m      4\u001b[0m \u001b[1;32mimport\u001b[0m \u001b[0mtextract\u001b[0m\u001b[1;33m\u001b[0m\u001b[1;33m\u001b[0m\u001b[0m\n\u001b[1;32m----> 5\u001b[1;33m \u001b[1;32mimport\u001b[0m \u001b[0mstringIO\u001b[0m\u001b[1;33m\u001b[0m\u001b[1;33m\u001b[0m\u001b[0m\n\u001b[0m\u001b[0;32m      6\u001b[0m \u001b[1;32mimport\u001b[0m \u001b[0mpandas\u001b[0m \u001b[1;32mas\u001b[0m \u001b[0mpd\u001b[0m\u001b[1;33m\u001b[0m\u001b[1;33m\u001b[0m\u001b[0m\n\u001b[0;32m      7\u001b[0m \u001b[1;32mfrom\u001b[0m \u001b[0mPyPDF2\u001b[0m \u001b[1;32mimport\u001b[0m \u001b[0mPdfFileWriter\u001b[0m\u001b[1;33m,\u001b[0m \u001b[0mPdfFileReader\u001b[0m\u001b[1;33m\u001b[0m\u001b[1;33m\u001b[0m\u001b[0m\n",
      "\u001b[1;31mModuleNotFoundError\u001b[0m: No module named 'stringIO'"
     ]
    }
   ],
   "source": [
    "import os\n",
    "import re\n",
    "import textwrap\n",
    "import textract\n",
    "from io import StringIO\n",
    "import pandas as pd\n",
    "from PyPDF2 import PdfFileWriter, PdfFileReader"
   ]
  },
  {
   "cell_type": "code",
   "execution_count": 6,
   "metadata": {
    "ExecuteTime": {
     "end_time": "2019-12-08T20:39:24.130147Z",
     "start_time": "2019-12-08T20:39:23.630119Z"
    }
   },
   "outputs": [],
   "source": [
    "PATH = '../data/pdf/Multilingual_Statistical_-terminology_2013.pdf'\n",
    "pdf_reader = PdfFileReader(open(PATH, 'rb'))"
   ]
  },
  {
   "cell_type": "code",
   "execution_count": 7,
   "metadata": {
    "ExecuteTime": {
     "end_time": "2019-12-08T20:39:30.659246Z",
     "start_time": "2019-12-08T20:39:25.143309Z"
    }
   },
   "outputs": [
    {
     "name": "stdout",
     "output_type": "stream",
     "text": [
      "Number of pages : 439\n",
      "Display content for first page\n",
      "_____________________________________________\n",
      "    MULTILINGUAL\n",
      " STATISTICAL\n",
      "  TERMINOLOGY\n",
      "MULTILINGUAL \n",
      "STATISTICAL\n",
      " TERMINOLOGY\n",
      "The South Africa I know, the home I understand\n",
      "\n"
     ]
    }
   ],
   "source": [
    "print(\"Number of pages : {pages}\".format(pages=pdf_reader.numPages))\n",
    "print(\"Display content for first page\")\n",
    "print(\"_____________________________________________\")\n",
    "page_object = pdf_reader.getPage(0) \n",
    "print(page_object.extractText())"
   ]
  },
  {
   "cell_type": "code",
   "execution_count": null,
   "metadata": {
    "ExecuteTime": {
     "end_time": "2019-12-08T20:48:49.525719Z",
     "start_time": "2019-12-08T20:47:19.606281Z"
    }
   },
   "outputs": [],
   "source": [
    "document = [page.extractText().strip() for page in pdf_reader.pages]"
   ]
  },
  {
   "cell_type": "code",
   "execution_count": null,
   "metadata": {},
   "outputs": [],
   "source": [
    "text = textract.process(PATH, method='pdfminer')"
   ]
  }
 ],
 "metadata": {
  "hide_input": false,
  "kernelspec": {
   "display_name": "Python 3",
   "language": "python",
   "name": "python3"
  }
 },
 "nbformat": 4,
 "nbformat_minor": 2
}
